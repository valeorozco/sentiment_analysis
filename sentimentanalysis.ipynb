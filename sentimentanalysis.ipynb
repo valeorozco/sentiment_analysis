{
 "cells": [
  {
   "cell_type": "markdown",
   "metadata": {},
   "source": [
    "## SENTIMENT ANALYSIS IMPLEMENTATION"
   ]
  },
  {
   "cell_type": "markdown",
   "metadata": {},
   "source": [
    "### Exercise 1\n",
    "<br> Take any English text you want, and calculate the frequency of its words.\n"
   ]
  },
  {
   "cell_type": "code",
   "execution_count": 183,
   "metadata": {},
   "outputs": [],
   "source": [
    "#import required libraries\n",
    "import pandas as pd\n",
    "import nltk\n",
    "from nltk.tokenize import word_tokenize\n",
    "from nltk.sentiment.vader import SentimentIntensityAnalyzer as sia\n",
    "import numpy as np\n",
    "import seaborn as sns\n"
   ]
  },
  {
   "cell_type": "code",
   "execution_count": 184,
   "metadata": {},
   "outputs": [
    {
     "data": {
      "text/plain": [
       "'3.6.5'"
      ]
     },
     "execution_count": 184,
     "metadata": {},
     "output_type": "execute_result"
    }
   ],
   "source": [
    "nltk.__version__"
   ]
  },
  {
   "cell_type": "code",
   "execution_count": 185,
   "metadata": {},
   "outputs": [],
   "source": [
    "#Text to be analized: A google review from a coffee place\n",
    "text = \"\"\"I had a hard time finding good coffee in Barcelona, until I found BRKLYN. Which not only has AMAZING coffee, but delicious treats and meals.\n",
    "It is a place that invites you to stay for long periods, with the perfect environment to work and last but not least, warm service.\"\"\"\n",
    "tokenized_text = word_tokenize(text)"
   ]
  },
  {
   "cell_type": "code",
   "execution_count": 186,
   "metadata": {},
   "outputs": [
    {
     "name": "stdout",
     "output_type": "stream",
     "text": [
      "['I', 'had', 'a', 'hard', 'time', 'finding', 'good', 'coffee', 'in', 'Barcelona', ',', 'until', 'I', 'found', 'BRKLYN', '.', 'Which', 'not', 'only', 'has', 'AMAZING', 'coffee', ',', 'but', 'delicious', 'treats', 'and', 'meals', '.', 'It', 'is', 'a', 'place', 'that', 'invites', 'you', 'to', 'stay', 'for', 'long', 'periods', ',', 'with', 'the', 'perfect', 'environment', 'to', 'work', 'and', 'last', 'but', 'not', 'least', ',', 'warm', 'service', '.']\n"
     ]
    }
   ],
   "source": [
    "print(tokenized_text)"
   ]
  },
  {
   "cell_type": "code",
   "execution_count": 187,
   "metadata": {},
   "outputs": [
    {
     "name": "stdout",
     "output_type": "stream",
     "text": [
      "['I', 'hard', 'time', 'finding', 'good', 'coffee', 'Barcelona', 'I', 'found', 'BRKLYN', 'Which', 'AMAZING', 'coffee', 'delicious', 'treats', 'meals', 'It', 'place', 'invites', 'stay', 'long', 'periods', 'perfect', 'environment', 'work', 'last', 'least', 'warm', 'service']\n"
     ]
    }
   ],
   "source": [
    "from nltk.corpus import stopwords\n",
    "# delete stop words\n",
    "stopwords_here = set(stopwords.words('english'))\n",
    "filtered_paragraph = []\n",
    "punctuation_marks = ['.',',','”', '“']\n",
    "stopwords_here.update(punctuation_marks)\n",
    "\n",
    "\n",
    "for w in tokenized_text: \n",
    "    if w not in stopwords_here  :   \n",
    "        filtered_paragraph.append(w)\n",
    "\n",
    "print(filtered_paragraph)\n",
    "        "
   ]
  },
  {
   "cell_type": "code",
   "execution_count": 188,
   "metadata": {},
   "outputs": [
    {
     "data": {
      "text/plain": [
       "29"
      ]
     },
     "execution_count": 188,
     "metadata": {},
     "output_type": "execute_result"
    }
   ],
   "source": [
    "len(filtered_paragraph)"
   ]
  },
  {
   "cell_type": "code",
   "execution_count": 189,
   "metadata": {},
   "outputs": [
    {
     "name": "stdout",
     "output_type": "stream",
     "text": [
      "[('I', 2), ('coffee', 2), ('hard', 1), ('time', 1), ('finding', 1), ('good', 1), ('Barcelona', 1), ('found', 1), ('BRKLYN', 1), ('Which', 1)]\n"
     ]
    }
   ],
   "source": [
    "#Check the frecuency of words in the text\n",
    "from nltk.probability import FreqDist\n",
    "frequency_stopwords = FreqDist(filtered_paragraph).most_common(10)\n",
    "print(frequency_stopwords)"
   ]
  },
  {
   "cell_type": "code",
   "execution_count": 190,
   "metadata": {},
   "outputs": [],
   "source": [
    "frequency = pd.Series(dict(frequency_stopwords))"
   ]
  },
  {
   "cell_type": "code",
   "execution_count": 191,
   "metadata": {},
   "outputs": [
    {
     "data": {
      "image/png": "[encoded data removed]",
      "text/plain": [
       "<Figure size 432x288 with 1 Axes>"
      ]
     },
     "metadata": {
      "needs_background": "light"
     },
     "output_type": "display_data"
    }
   ],
   "source": [
    "#ploting the frequency distribution \n",
    "import matplotlib.pyplot as plt\n",
    "plt.figure(figsize=(6,4))\n",
    "plt.title(\"FREQUENCY CHART FROM WORDS OF TEXT AFTER USING STOPWORDS\")\n",
    "frequency.plot()\n",
    "plt.tight_layout()\n",
    "plt.xticks(rotation=30)\n",
    "plt.show()"
   ]
  },
  {
   "cell_type": "markdown",
   "metadata": {},
   "source": [
    "### Exercise 2\n",
    "<br> Remove the stopwords and perform stemming on your dataset.\n"
   ]
  },
  {
   "cell_type": "markdown",
   "metadata": {},
   "source": [
    "Since the stop words were removed already we will be performing stemming with the purpose of reducing possible duplicates of words and therefore getting a more accurate representation of the data."
   ]
  },
  {
   "cell_type": "code",
   "execution_count": 192,
   "metadata": {},
   "outputs": [
    {
     "name": "stdout",
     "output_type": "stream",
     "text": [
      "Filtered Sentence:  ['i', 'hard', 'time', 'find', 'good', 'coffe', 'barcelona', 'i', 'found', 'brklyn', 'which', 'amaz', 'coffe', 'delici', 'treat', 'meal', 'it', 'place', 'invit', 'stay', 'long', 'period', 'perfect', 'environ', 'work', 'last', 'least', 'warm', 'servic']\n"
     ]
    }
   ],
   "source": [
    "#import the necessary libraries \n",
    "from nltk.stem import PorterStemmer\n",
    "#Create object Stemmer\n",
    "porter_stemmer = PorterStemmer()\n",
    "\n",
    "#Create list where words will be stored after lemmatization\n",
    "stemmed_words = []\n",
    "\n",
    "#Perform stemming and add list of stemmed words into the stemed_words list\n",
    "for w in filtered_paragraph:\n",
    "    stemmed_words.append(porter_stemmer.stem(w))\n",
    "print('Filtered Sentence: ', stemmed_words)\n"
   ]
  },
  {
   "cell_type": "code",
   "execution_count": 193,
   "metadata": {},
   "outputs": [
    {
     "name": "stdout",
     "output_type": "stream",
     "text": [
      "[('i', 2), ('coffe', 2), ('hard', 1), ('time', 1), ('find', 1), ('good', 1), ('barcelona', 1), ('found', 1), ('brklyn', 1), ('which', 1)]\n"
     ]
    }
   ],
   "source": [
    "#Find out the frequency of stemmed words\n",
    "frequency_of_stemmed_words = FreqDist(stemmed_words).most_common(10)\n",
    "print(frequency_of_stemmed_words)"
   ]
  },
  {
   "cell_type": "markdown",
   "metadata": {},
   "source": [
    "The text result after using the stemmed method shows some trimmed words, which could generate some missmatches when it comes to classify. So let's try with lemmatization."
   ]
  },
  {
   "cell_type": "code",
   "execution_count": 194,
   "metadata": {},
   "outputs": [
    {
     "name": "stdout",
     "output_type": "stream",
     "text": [
      "['I', 'hard', 'time', 'finding', 'good', 'coffee', 'Barcelona', 'I', 'found', 'BRKLYN', 'Which', 'AMAZING', 'coffee', 'delicious', 'treat', 'meal', 'It', 'place', 'invite', 'stay', 'long', 'period', 'perfect', 'environment', 'work', 'last', 'least', 'warm', 'service']\n"
     ]
    }
   ],
   "source": [
    "#import the needed library\n",
    "from nltk.stem.wordnet import WordNetLemmatizer\n",
    "#create object Lemmatizer\n",
    "lematizer = WordNetLemmatizer()\n",
    "#Create list where words will be stored after lemmatization\n",
    "lemmatized_words = []\n",
    "\n",
    "# Perform lemmatization and add new words to the list\n",
    "for w in filtered_paragraph:\n",
    "    lemmatized_words.append(lematizer.lemmatize(w))\n",
    "print(lemmatized_words)\n"
   ]
  },
  {
   "cell_type": "code",
   "execution_count": 195,
   "metadata": {},
   "outputs": [
    {
     "name": "stdout",
     "output_type": "stream",
     "text": [
      "[('I', 2), ('coffee', 2), ('hard', 1), ('time', 1), ('finding', 1), ('good', 1), ('Barcelona', 1), ('found', 1), ('BRKLYN', 1), ('Which', 1)]\n"
     ]
    },
    {
     "data": {
      "text/plain": [
       "[('I', 2),\n",
       " ('coffee', 2),\n",
       " ('hard', 1),\n",
       " ('time', 1),\n",
       " ('finding', 1),\n",
       " ('good', 1),\n",
       " ('Barcelona', 1),\n",
       " ('found', 1),\n",
       " ('BRKLYN', 1),\n",
       " ('Which', 1)]"
      ]
     },
     "execution_count": 195,
     "metadata": {},
     "output_type": "execute_result"
    }
   ],
   "source": [
    "#Find the frequency of lemmatized words for the 0 most common ones\n",
    "frequency_of_lemmatized_words = FreqDist(lemmatized_words).most_common(10)\n",
    "print(frequency_of_lemmatized_words)\n",
    "frequency_of_lemmatized_words"
   ]
  },
  {
   "cell_type": "code",
   "execution_count": 196,
   "metadata": {},
   "outputs": [
    {
     "data": {
      "image/png": "[encoded data removed]",
      "text/plain": [
       "<Figure size 720x360 with 2 Axes>"
      ]
     },
     "metadata": {
      "needs_background": "light"
     },
     "output_type": "display_data"
    }
   ],
   "source": [
    "## Conversion to Pandas series via Python Dictionary for easier plotting\n",
    "frequency_of_lemmatized_words =  pd.Series(dict(frequency_of_lemmatized_words))\n",
    "frequency_of_stemmed_words = pd.Series(dict(frequency_of_stemmed_words))\n",
    "\n",
    "\n",
    "fig, ax = plt.subplots(nrows= 1, ncols=2, figsize=(10,5))\n",
    "ax[0].plot(frequency_of_lemmatized_words, color = 'blue', label = 'Lematization')\n",
    "ax[0].tick_params(axis='x', labelrotation = 45)\n",
    "ax[0].set_title('Frequency of words after lemmatization')\n",
    "#ax[0].set_xticklabels(ax[0].get_xticks(),rotation=30)\n",
    "ax[1].plot(frequency_of_stemmed_words, color = 'orange', label = 'stemming' )\n",
    "ax[1].tick_params(axis='x', labelrotation = 45)\n",
    "ax[1].set_title('Frequency of words after stemming')\n",
    "plt.show()"
   ]
  },
  {
   "cell_type": "markdown",
   "metadata": {},
   "source": [
    "None of the implemented methods shows any difference in terms of how the frequency of words. Perhaps due to the lenght of the chosen text. It is likely that a longer, more complex text could generate a different distribution depending on the method used. Nevertheless, this dynamic is not present for this kind of text."
   ]
  },
  {
   "cell_type": "markdown",
   "metadata": {},
   "source": [
    "### Exercise 3\n",
    "<br>Perform sentiment analysis on your dataset."
   ]
  },
  {
   "cell_type": "code",
   "execution_count": 197,
   "metadata": {},
   "outputs": [],
   "source": [
    "lemmatized_words= ' '.join(lemmatized_words)"
   ]
  },
  {
   "cell_type": "code",
   "execution_count": 198,
   "metadata": {},
   "outputs": [
    {
     "data": {
      "text/plain": [
       "'I hard time finding good coffee Barcelona I found BRKLYN Which AMAZING coffee delicious treat meal It place invite stay long period perfect environment work last least warm service'"
      ]
     },
     "execution_count": 198,
     "metadata": {},
     "output_type": "execute_result"
    }
   ],
   "source": [
    "lemmatized_words"
   ]
  },
  {
   "cell_type": "code",
   "execution_count": 199,
   "metadata": {},
   "outputs": [
    {
     "data": {
      "text/plain": [
       "{'neg': 0.074, 'neu': 0.461, 'pos': 0.464, 'compound': 0.9522}"
      ]
     },
     "execution_count": 199,
     "metadata": {},
     "output_type": "execute_result"
    }
   ],
   "source": [
    "sentiment_analysis = sia()\n",
    "sentiment_analysis.polarity_scores(lemmatized_words)"
   ]
  },
  {
   "cell_type": "markdown",
   "metadata": {},
   "source": [
    "The compound score sets a treshold to determine whether a sentence is negative, positive or neutral. A compound score >= 0.05 represents a positive sentiment and therefore the model used has clasified the sentence 'I hard time finding good coffee Barcelona I found BRKLYN Which AMAZING coffee delicious treat meal It place invite stay long period perfect environment work last least warm service' as positive, which is acurate indeed. "
   ]
  }
 ],
 "metadata": {
  "kernelspec": {
   "display_name": "Python 3.9.7 ('base')",
   "language": "python",
   "name": "python3"
  },
  "language_info": {
   "codemirror_mode": {
    "name": "ipython",
    "version": 3
   },
   "file_extension": ".py",
   "mimetype": "text/x-python",
   "name": "python",
   "nbconvert_exporter": "python",
   "pygments_lexer": "ipython3",
   "version": "3.9.7"
  },
  "orig_nbformat": 4,
  "vscode": {
   "interpreter": {
    "hash": "2457de16549bda2ea19f462abbb8ee75322c13e2a4d708fd29b237268ab2c90c"
   }
  }
 },
 "nbformat": 4,
 "nbformat_minor": 2
}
